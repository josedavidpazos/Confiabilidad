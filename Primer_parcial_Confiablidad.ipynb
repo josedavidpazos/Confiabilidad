{
  "nbformat": 4,
  "nbformat_minor": 0,
  "metadata": {
    "colab": {
      "provenance": [],
      "authorship_tag": "ABX9TyMzZILEX0Ui4o71jvoavysg",
      "include_colab_link": true
    },
    "kernelspec": {
      "name": "python3",
      "display_name": "Python 3"
    },
    "language_info": {
      "name": "python"
    }
  },
  "cells": [
    {
      "cell_type": "markdown",
      "metadata": {
        "id": "view-in-github",
        "colab_type": "text"
      },
      "source": [
        "<a href=\"https://colab.research.google.com/github/josedavidpazos/Confiabilidad/blob/main/Primer_parcial_Confiablidad.ipynb\" target=\"_parent\"><img src=\"https://colab.research.google.com/assets/colab-badge.svg\" alt=\"Open In Colab\"/></a>"
      ]
    },
    {
      "cell_type": "code",
      "execution_count": 1,
      "metadata": {
        "colab": {
          "base_uri": "https://localhost:8080/",
          "height": 1000
        },
        "id": "UYuklfX20jcI",
        "outputId": "f2c7429e-f930-451a-e0a0-ee6c2a6eb199"
      },
      "outputs": [
        {
          "output_type": "stream",
          "name": "stdout",
          "text": [
            "Tabla de frecuencias para SAIDI:\n",
            "Intervalo de Clase\tFrecuencia Absoluta\tFrecuencia Relativa\tFrecuencia Acumulada\n",
            "17.39 - 22.11\t\t2\t\t\t0.100\t\t\t0.100\n",
            "22.11 - 26.83\t\t3\t\t\t0.150\t\t\t0.250\n",
            "26.83 - 31.55\t\t1\t\t\t0.050\t\t\t0.300\n",
            "31.55 - 36.26\t\t6\t\t\t0.300\t\t\t0.600\n",
            "36.26 - 40.98\t\t6\t\t\t0.300\t\t\t0.900\n",
            "40.98 - 45.70\t\t2\t\t\t0.100\t\t\t1.000\n",
            "\n",
            "Tabla de frecuencias para SAIFI:\n",
            "Intervalo de Clase\tFrecuencia Absoluta\tFrecuencia Relativa\tFrecuencia Acumulada\n",
            "16.19 - 20.12\t\t3\t\t\t0.150\t\t\t0.150\n",
            "20.12 - 24.06\t\t0\t\t\t0.000\t\t\t0.150\n",
            "24.06 - 27.99\t\t4\t\t\t0.200\t\t\t0.350\n",
            "27.99 - 31.93\t\t2\t\t\t0.100\t\t\t0.450\n",
            "31.93 - 35.86\t\t6\t\t\t0.300\t\t\t0.750\n",
            "35.86 - 39.80\t\t5\t\t\t0.250\t\t\t1.000\n"
          ]
        },
        {
          "output_type": "display_data",
          "data": {
            "text/plain": [
              "<Figure size 1200x600 with 2 Axes>"
            ],
            "image/png": "[encoded data removed]"
          },
          "metadata": {}
        },
        {
          "output_type": "stream",
          "name": "stdout",
          "text": [
            "\n",
            "Valores aproximados de SAIDI:\n",
            "Media: 33.4305\n",
            "Varianza: 56.60160475\n",
            "Desviación Estándar: 7.523403800807185\n",
            "\n",
            "Valores aproximados de SAIFI:\n",
            "Media: 30.744\n",
            "Varianza: 44.09640399999999\n",
            "Desviación Estándar: 6.640512329632405\n"
          ]
        }
      ],
      "source": [
        "import numpy as np\n",
        "import matplotlib.pyplot as plt\n",
        "\n",
        "# Datos de SAIDI y SAIFI\n",
        "SAIDI = np.array([42.65, 45.7, 39.84, 40.15, 38.9, 39.5, 37.2, 36.05, 35.5, 37.5, 34.04, 34.06, 33.98, 33.74, 25.5, 29.49, 17.39, 24.11, 22.16, 21.15])\n",
        "SAIFI = np.array([39.8, 36.54, 37.21, 38.2, 36.98, 33.85, 34.4, 35.47, 34.25, 33.71, 31.24, 32.65, 27.64, 28.9, 27.3, 24.73, 27.88, 16.19, 19.8, 18.14])\n",
        "\n",
        "# Calculando el número de clases\n",
        "k = 1 + np.log2(len(SAIDI))\n",
        "k = int(np.ceil(k))\n",
        "\n",
        "# Calculando los intervalos de clase para SAIDI y SAIFI\n",
        "range_SAIDI = SAIDI.max() - SAIDI.min()\n",
        "range_SAIFI = SAIFI.max() - SAIFI.min()\n",
        "\n",
        "interval_SAIDI = range_SAIDI / k\n",
        "interval_SAIFI = range_SAIFI / k\n",
        "\n",
        "# Definiendo los límites de los intervalos de clase\n",
        "class_limits_SAIDI = [SAIDI.min() + i * interval_SAIDI for i in range(k + 1)]\n",
        "class_limits_SAIFI = [SAIFI.min() + i * interval_SAIFI for i in range(k + 1)]\n",
        "\n",
        "# Calculando las frecuencias absolutas para SAIDI y SAIFI\n",
        "freq_SAIDI, _ = np.histogram(SAIDI, bins=class_limits_SAIDI)\n",
        "freq_SAIFI, _ = np.histogram(SAIFI, bins=class_limits_SAIFI)\n",
        "\n",
        "# Calculando las frecuencias relativas y acumuladas\n",
        "relative_freq_SAIDI = freq_SAIDI / len(SAIDI)\n",
        "cumulative_freq_SAIDI = np.cumsum(relative_freq_SAIDI)\n",
        "\n",
        "relative_freq_SAIFI = freq_SAIFI / len(SAIFI)\n",
        "cumulative_freq_SAIFI = np.cumsum(relative_freq_SAIFI)\n",
        "\n",
        "# Imprimiendo las tablas de frecuencias\n",
        "print(\"Tabla de frecuencias para SAIDI:\")\n",
        "print(\"Intervalo de Clase\\tFrecuencia Absoluta\\tFrecuencia Relativa\\tFrecuencia Acumulada\")\n",
        "for i in range(k):\n",
        "    print(f\"{class_limits_SAIDI[i]:.2f} - {class_limits_SAIDI[i+1]:.2f}\\t\\t{freq_SAIDI[i]}\\t\\t\\t{relative_freq_SAIDI[i]:.3f}\\t\\t\\t{cumulative_freq_SAIDI[i]:.3f}\")\n",
        "print(\"\\nTabla de frecuencias para SAIFI:\")\n",
        "print(\"Intervalo de Clase\\tFrecuencia Absoluta\\tFrecuencia Relativa\\tFrecuencia Acumulada\")\n",
        "for i in range(k):\n",
        "    print(f\"{class_limits_SAIFI[i]:.2f} - {class_limits_SAIFI[i+1]:.2f}\\t\\t{freq_SAIFI[i]}\\t\\t\\t{relative_freq_SAIFI[i]:.3f}\\t\\t\\t{cumulative_freq_SAIFI[i]:.3f}\")\n",
        "\n",
        "# Graficando histogramas\n",
        "plt.figure(figsize=(12, 6))\n",
        "\n",
        "plt.subplot(1, 2, 1)\n",
        "plt.hist(SAIDI, bins=class_limits_SAIDI, edgecolor='black', alpha=0.7)\n",
        "plt.title('Histograma de SAIDI')\n",
        "plt.xlabel('SAIDI (horas)')\n",
        "plt.ylabel('Frecuencia')\n",
        "\n",
        "plt.subplot(1, 2, 2)\n",
        "plt.hist(SAIFI, bins=class_limits_SAIFI, edgecolor='black', alpha=0.7)\n",
        "plt.title('Histograma de SAIFI')\n",
        "plt.xlabel('SAIFI (veces)')\n",
        "plt.ylabel('Frecuencia')\n",
        "\n",
        "plt.tight_layout()\n",
        "plt.show()\n",
        "\n",
        "# Calculando media, varianza y desviación estándar aproximadas\n",
        "mean_SAIDI_approx = np.mean(SAIDI)\n",
        "variance_SAIDI_approx = np.var(SAIDI)\n",
        "std_deviation_SAIDI_approx = np.std(SAIDI)\n",
        "\n",
        "mean_SAIFI_approx = np.mean(SAIFI)\n",
        "variance_SAIFI_approx = np.var(SAIFI)\n",
        "std_deviation_SAIFI_approx = np.std(SAIFI)\n",
        "\n",
        "print(\"\\nValores aproximados de SAIDI:\")\n",
        "print(\"Media:\", mean_SAIDI_approx)\n",
        "print(\"Varianza:\", variance_SAIDI_approx)\n",
        "print(\"Desviación Estándar:\", std_deviation_SAIDI_approx)\n",
        "\n",
        "print(\"\\nValores aproximados de SAIFI:\")\n",
        "print(\"Media:\", mean_SAIFI_approx)\n",
        "print(\"Varianza:\", variance_SAIFI_approx)\n",
        "print(\"Desviación Estándar:\", std_deviation_SAIFI_approx)\n"
      ]
    }
  ]
}